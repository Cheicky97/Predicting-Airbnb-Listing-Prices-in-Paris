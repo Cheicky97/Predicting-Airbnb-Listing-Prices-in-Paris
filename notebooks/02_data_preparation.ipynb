{
 "cells": [
  {
   "cell_type": "markdown",
   "id": "884e1e6c",
   "metadata": {},
   "source": [
    "# Predicting Airbnb Listing Prices in Paris  \n",
    "*Using machine learning to understand key pricing drivers*"
   ]
  },
  {
   "cell_type": "markdown",
   "id": "68fa3a72",
   "metadata": {},
   "source": [
    " ## 3. Data Preparation\n",
    "\n",
    "In this third step of our project, we prepare the dataset for modeling and further analysis. This involves several key tasks:\n",
    "\n",
    "> * **Data splitting**: Dividing the dataset into training and test sets to avoid data leakage\n",
    "> * **Cleaning the data**: Handling missing values and correcting inconsistent entries\n",
    "> * **Outlier treatment**: Detecting and addressing extreme values\n",
    "> * **Feature transformation**: Applying appropriate scaling, encoding, or normalization\n",
    "> * **Feature engineering**: Creating new relevant features to enhance model performance\n",
    "> * **Feature selection**: Identifying the most informative variables using only the training set\n",
    "\n"
   ]
  },
  {
   "cell_type": "markdown",
   "id": "30d36898",
   "metadata": {},
   "source": [
    "**Important Libraries**"
   ]
  },
  {
   "cell_type": "code",
   "execution_count": 17,
   "id": "3aebfaac",
   "metadata": {},
   "outputs": [],
   "source": [
    "import sys\n",
    "import numpy as np\n",
    "import matplotlib.pyplot as plt\n",
    "\n",
    "import pandas as pd\n",
    "import seaborn as sns\n",
    "%matplotlib inline"
   ]
  },
  {
   "cell_type": "code",
   "execution_count": 3,
   "id": "5867ce5c",
   "metadata": {},
   "outputs": [],
   "source": [
    "from sklearn.model_selection import train_test_split"
   ]
  },
  {
   "cell_type": "code",
   "execution_count": 18,
   "id": "4a02c577",
   "metadata": {},
   "outputs": [],
   "source": [
    "sys.path.append('../src')"
   ]
  },
  {
   "cell_type": "code",
   "execution_count": 19,
   "id": "2dced6e9",
   "metadata": {},
   "outputs": [],
   "source": [
    "\n",
    "from data_understanding_utils import infos_missing"
   ]
  },
  {
   "cell_type": "markdown",
   "id": "16548107",
   "metadata": {},
   "source": [
    "**load the data**"
   ]
  },
  {
   "cell_type": "code",
   "execution_count": 2,
   "id": "84e3100e",
   "metadata": {},
   "outputs": [],
   "source": [
    "raw_data = pd.read_csv(\"../data/listings.csv\")"
   ]
  },
  {
   "cell_type": "markdown",
   "id": "dceb2426",
   "metadata": {},
   "source": [
    "### 3.1. Splitting the dataset into train and test set"
   ]
  },
  {
   "cell_type": "markdown",
   "id": "f17eba58",
   "metadata": {},
   "source": [
    "As we saw early during data understanding phase near half of the dataset target values are missing.\n",
    "Here, we then propose to filter the data and keep apart labeled data and unlabeled ones. And we will further work with the labbeled data."
   ]
  },
  {
   "cell_type": "code",
   "execution_count": 11,
   "id": "a8f7e52f",
   "metadata": {},
   "outputs": [
    {
     "name": "stdout",
     "output_type": "stream",
     "text": [
      "(55655, 79)\n",
      "(30409, 79)\n",
      "unlabeled data represent 35% of the total data\n"
     ]
    }
   ],
   "source": [
    "data_labeled = raw_data[raw_data.price.notna()]\n",
    "print(data_labeled.shape)\n",
    "data_unlabeled = raw_data[raw_data.price.isna()]\n",
    "print(data_unlabeled.shape)\n",
    "print(f\"unlabeled data represent {100 * data_unlabeled.shape[0]/raw_data.shape[0]:2.0f}% of the total data\")"
   ]
  },
  {
   "cell_type": "markdown",
   "id": "e700b794",
   "metadata": {},
   "source": [
    "Then we separate features data from the target "
   ]
  },
  {
   "cell_type": "code",
   "execution_count": 12,
   "id": "902df28e",
   "metadata": {},
   "outputs": [],
   "source": [
    "X = data_labeled.copy()\n",
    "y = data_labeled.pop('price')"
   ]
  },
  {
   "cell_type": "code",
   "execution_count": 20,
   "id": "b5afb0a2",
   "metadata": {},
   "outputs": [
    {
     "data": {
      "text/plain": [
       "0.0"
      ]
     },
     "execution_count": 20,
     "metadata": {},
     "output_type": "execute_result"
    }
   ],
   "source": [
    "y.isnull().mean()"
   ]
  },
  {
   "cell_type": "code",
   "execution_count": 28,
   "id": "15b985b4",
   "metadata": {},
   "outputs": [
    {
     "data": {
      "text/plain": [
       "<module 'data_understanding_utils' from 'c:\\\\Users\\\\cheic\\\\Documents\\\\GitHub\\\\Predicting-Airbnb-Listing-Prices-in-Paris\\\\notebooks\\\\../src\\\\data_understanding_utils.py'>"
      ]
     },
     "execution_count": 28,
     "metadata": {},
     "output_type": "execute_result"
    }
   ],
   "source": [
    "import importlib\n",
    "import data_understanding_utils\n",
    "\n",
    "importlib.reload(data_understanding_utils)"
   ]
  },
  {
   "cell_type": "code",
   "execution_count": 29,
   "id": "79a003c7",
   "metadata": {},
   "outputs": [
    {
     "name": "stdout",
     "output_type": "stream",
     "text": [
      "There are 10% of missing data.\n"
     ]
    }
   ],
   "source": [
    "data_understanding_utils.infos_missing(X)"
   ]
  },
  {
   "cell_type": "code",
   "execution_count": 33,
   "id": "61f74523",
   "metadata": {},
   "outputs": [
    {
     "name": "stdout",
     "output_type": "stream",
     "text": [
      "Shape of the training set: (38958, 79)\n",
      "Shape of the test set: (16697, 79)\n"
     ]
    }
   ],
   "source": [
    "X_train, X_test, y_train, y_test = train_test_split(X, y, test_size=0.3, random_state=10)\n",
    "print(f'Shape of the training set: {X_train.shape}')\n",
    "print(f'Shape of the test set: {X_test.shape}')"
   ]
  },
  {
   "cell_type": "code",
   "execution_count": 35,
   "id": "7acd9100",
   "metadata": {},
   "outputs": [
    {
     "data": {
      "text/plain": [
       "id                                              0.000000\n",
       "listing_url                                     0.000000\n",
       "scrape_id                                       0.000000\n",
       "last_scraped                                    0.000000\n",
       "source                                          0.000000\n",
       "name                                            0.000000\n",
       "description                                     0.030751\n",
       "neighborhood_overview                           0.505416\n",
       "picture_url                                     0.000026\n",
       "host_id                                         0.000000\n",
       "host_url                                        0.000000\n",
       "host_name                                       0.000513\n",
       "host_since                                      0.000513\n",
       "host_location                                   0.214949\n",
       "host_about                                      0.535474\n",
       "host_response_time                              0.219031\n",
       "host_response_rate                              0.219031\n",
       "host_acceptance_rate                            0.160917\n",
       "host_is_superhost                               0.028287\n",
       "host_thumbnail_url                              0.000513\n",
       "host_picture_url                                0.000513\n",
       "host_neighbourhood                              0.720494\n",
       "host_listings_count                             0.000513\n",
       "host_total_listings_count                       0.000513\n",
       "host_verifications                              0.000513\n",
       "host_has_profile_pic                            0.000513\n",
       "host_identity_verified                          0.000513\n",
       "neighbourhood                                   0.505416\n",
       "neighbourhood_cleansed                          0.000000\n",
       "neighbourhood_group_cleansed                    1.000000\n",
       "latitude                                        0.000000\n",
       "longitude                                       0.000000\n",
       "property_type                                   0.000000\n",
       "room_type                                       0.000000\n",
       "accommodates                                    0.000000\n",
       "bathrooms                                       0.000282\n",
       "bathrooms_text                                  0.000873\n",
       "bedrooms                                        0.002772\n",
       "beds                                            0.002002\n",
       "amenities                                       0.000000\n",
       "price                                           0.000000\n",
       "minimum_nights                                  0.000000\n",
       "maximum_nights                                  0.000000\n",
       "minimum_minimum_nights                          0.000000\n",
       "maximum_minimum_nights                          0.000000\n",
       "minimum_maximum_nights                          0.000000\n",
       "maximum_maximum_nights                          0.000000\n",
       "minimum_nights_avg_ntm                          0.000000\n",
       "maximum_nights_avg_ntm                          0.000000\n",
       "calendar_updated                                1.000000\n",
       "has_availability                                0.029134\n",
       "availability_30                                 0.000000\n",
       "availability_60                                 0.000000\n",
       "availability_90                                 0.000000\n",
       "availability_365                                0.000000\n",
       "calendar_last_scraped                           0.000000\n",
       "number_of_reviews                               0.000000\n",
       "number_of_reviews_ltm                           0.000000\n",
       "number_of_reviews_l30d                          0.000000\n",
       "availability_eoy                                0.000000\n",
       "number_of_reviews_ly                            0.000000\n",
       "estimated_occupancy_l365d                       0.000000\n",
       "estimated_revenue_l365d                         0.000000\n",
       "first_review                                    0.241799\n",
       "last_review                                     0.241799\n",
       "review_scores_rating                            0.241799\n",
       "review_scores_accuracy                          0.241825\n",
       "review_scores_cleanliness                       0.241799\n",
       "review_scores_checkin                           0.241876\n",
       "review_scores_communication                     0.241799\n",
       "review_scores_location                          0.241850\n",
       "review_scores_value                             0.241850\n",
       "license                                         0.109426\n",
       "instant_bookable                                0.000000\n",
       "calculated_host_listings_count                  0.000000\n",
       "calculated_host_listings_count_entire_homes     0.000000\n",
       "calculated_host_listings_count_private_rooms    0.000000\n",
       "calculated_host_listings_count_shared_rooms     0.000000\n",
       "reviews_per_month                               0.241799\n",
       "dtype: float64"
      ]
     },
     "execution_count": 35,
     "metadata": {},
     "output_type": "execute_result"
    }
   ],
   "source": [
    "pd.options.display.max_rows=None\n",
    "X_train.isnull().mean()"
   ]
  },
  {
   "cell_type": "markdown",
   "id": "7ddcc924",
   "metadata": {},
   "source": [
    "### 3.2. Data Cleaning "
   ]
  },
  {
   "cell_type": "code",
   "execution_count": null,
   "id": "b6f17378",
   "metadata": {},
   "outputs": [],
   "source": []
  },
  {
   "cell_type": "code",
   "execution_count": null,
   "id": "e06a4a04",
   "metadata": {},
   "outputs": [],
   "source": []
  },
  {
   "cell_type": "markdown",
   "id": "a59acdb0",
   "metadata": {},
   "source": [
    "### 3.3. Data Preprocessing"
   ]
  },
  {
   "cell_type": "markdown",
   "id": "ba2b1890",
   "metadata": {},
   "source": [
    "### 3.4. Constructing New Data"
   ]
  },
  {
   "cell_type": "markdown",
   "id": "6403949d",
   "metadata": {},
   "source": [
    "### 3.5. Integrating Data"
   ]
  },
  {
   "cell_type": "markdown",
   "id": "a2192f66",
   "metadata": {},
   "source": [
    "### 3.6. Formating Data"
   ]
  },
  {
   "cell_type": "markdown",
   "id": "337a92f3",
   "metadata": {},
   "source": [
    "### Summary"
   ]
  },
  {
   "cell_type": "markdown",
   "id": "8665d5bc",
   "metadata": {},
   "source": []
  }
 ],
 "metadata": {
  "kernelspec": {
   "display_name": "base",
   "language": "python",
   "name": "python3"
  },
  "language_info": {
   "codemirror_mode": {
    "name": "ipython",
    "version": 3
   },
   "file_extension": ".py",
   "mimetype": "text/x-python",
   "name": "python",
   "nbconvert_exporter": "python",
   "pygments_lexer": "ipython3",
   "version": "3.12.7"
  }
 },
 "nbformat": 4,
 "nbformat_minor": 5
}
