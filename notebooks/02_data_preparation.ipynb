{
 "cells": [
  {
   "cell_type": "markdown",
   "id": "884e1e6c",
   "metadata": {},
   "source": [
    "# Predicting Airbnb Listing Prices in Paris  \n",
    "*Using machine learning to understand key pricing drivers*"
   ]
  },
  {
   "cell_type": "markdown",
   "id": "68fa3a72",
   "metadata": {},
   "source": [
    " ## 3. Data Preparation\n",
    "\n",
    "In this third step of our project, we prepare the dataset for modeling and further analysis. This involves several key tasks:\n",
    "\n",
    "> * **Data splitting**: Dividing the dataset into training and test sets to avoid data leakage\n",
    "> * **Cleaning the data**: Handling missing values and correcting inconsistent entries\n",
    "> * **Outlier treatment**: Detecting and addressing extreme values\n",
    "> * **Feature transformation**: Applying appropriate scaling, encoding, or normalization\n",
    "> * **Feature engineering**: Creating new relevant features to enhance model performance\n",
    "> * **Feature selection**: Identifying the most informative variables using only the training set\n",
    "\n"
   ]
  },
  {
   "cell_type": "markdown",
   "id": "7ddcc924",
   "metadata": {},
   "source": [
    "### 3.1. Data Cleaning "
   ]
  },
  {
   "cell_type": "markdown",
   "id": "a59acdb0",
   "metadata": {},
   "source": [
    "### 3.2. Data Preprocessing"
   ]
  },
  {
   "cell_type": "markdown",
   "id": "ba2b1890",
   "metadata": {},
   "source": [
    "### 3.3. Constructing New Data"
   ]
  },
  {
   "cell_type": "markdown",
   "id": "6403949d",
   "metadata": {},
   "source": [
    "### 3.4. Integrating Data"
   ]
  },
  {
   "cell_type": "markdown",
   "id": "a2192f66",
   "metadata": {},
   "source": [
    "### 3.5. Formating Data"
   ]
  },
  {
   "cell_type": "markdown",
   "id": "337a92f3",
   "metadata": {},
   "source": []
  }
 ],
 "metadata": {
  "language_info": {
   "name": "python"
  }
 },
 "nbformat": 4,
 "nbformat_minor": 5
}
