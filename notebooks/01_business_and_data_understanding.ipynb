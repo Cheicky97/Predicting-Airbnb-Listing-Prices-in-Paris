{
 "cells": [
  {
   "cell_type": "markdown",
   "id": "f3de6686",
   "metadata": {},
   "source": [
    "# Predicting Airbnb Listing Prices in Paris  \n",
    "*Using machine learning to understand key pricing drivers*"
   ]
  },
  {
   "cell_type": "markdown",
   "id": "e6495eed",
   "metadata": {},
   "source": [
    "## 1. Business Understanding"
   ]
  },
  {
   "cell_type": "markdown",
   "id": "3eac54a0",
   "metadata": {},
   "source": [
    "<div style=\"text-align: center;\">\n",
    "  <img src=\"../illustration-images/images.png\" width=\"610\" style=\"display:inline-block; margin-right: 20px;\">\n",
    "  <img src=\"../illustration-images/paris.jpg\" width=\"340\" style=\"display:inline-block;\">\n",
    "</div>"
   ]
  },
  {
   "cell_type": "markdown",
   "id": "7c4de323",
   "metadata": {},
   "source": [
    "### 1.1 Business Objectives\n",
    "\n",
    "Predicting Airbnb listing prices and understanding the most influential features can be highly beneficial to stakeholders.\n",
    "Renters want proposed prices for accommodations to be attractive, while hosts, seeking profit, want fair pricing guidance without feeling shortchanged. Ultimately, both parties aim for a fair price based on the apartment's characteristics and location.\n",
    "\n",
    "The goal of this project is to develop a *supervised machine learning* model to:\n",
    "\n",
    "* **Understand** the impact of individual features typically found in listings.\n",
    "* **Predict** accurate prices based on the characteristics of the apartment.\n",
    "\n",
    "To carry out this project, we will use Airbnb listing prices data in the city of **Paris** from the past 12 months. Using this dataset, we will train a machine learning model, analyze feature importance, and ultimately deploy the model into production as web app.\n",
    "\n",
    "<div style='text-align: center;'>\n",
    "    <img src='../illustration-images/diagram-pipeline.png' width=\"600\">\n",
    "</div>\n",
    "\n",
    "This project will interest and benefit the following stakeholders:\n",
    "\n",
    "* **Renters**: The model will help renters assess whether the listed price is fair by comparing it to the predicted price. For price-sensitive renters, it also offers insight into which features to prioritize or compromise on to stay within their budget.\n",
    "* **Hosts**: Setting a fair and competitive price can be challenging, especially for new hosts. Our model will assist them by offering data-driven price suggestions based on similar apartments. It can also help hosts identify which features to highlight or improve to increase the value of their listing.\n",
    "\n",
    "### 1.2. Business Success Criteria\n",
    "\n",
    "In the scope of this project, we aim to achieve the following:\n",
    "\n",
    "* **Low RMSE**: We will use the Root Mean Square Error (RMSE) to evaluate the model's performance. Our target is an RMSE below €50, indicating that price estimates are reasonably close to actual values.\n",
    "* **Identified key features**: At the end of the project, we aim to clearly identify the most important features that influence pricing.\n",
    "* **Lightweight model**: The final model should be as lightweight as possible to enable fast and efficient deployment.\n",
    "\n",
    "\n"
   ]
  },
  {
   "cell_type": "markdown",
   "id": "e0c44b1b",
   "metadata": {},
   "source": [
    "## 2. Data Understanding"
   ]
  },
  {
   "cell_type": "markdown",
   "id": "12db1ec9",
   "metadata": {},
   "source": [
    "### 2.1. Collecting Initial data\n",
    "\n",
    "The dataset used in this project was sourced from [Inside Airbnb](https://insideairbnb.com/fr/get-the-data/), a platform that provides publicly available Airbnb data for various cities.\n",
    "\n",
    "For this analysis, we downloaded the Paris listings dataset dated March 3, 2025.\n",
    "\n",
    "According to Inside Airbnb, the following information is important to note:\n",
    "\n",
    "- The data is collected from publicly available information on the Airbnb website.\n",
    "\n",
    "- It has been verified, cleansed, and aggregated by Inside Airbnb.\n",
    "\n",
    "- The reported location of each listing is obfuscated for privacy reasons, with coordinates randomly displaced within a radius of approximately 150 meters (450 feet) from the actual address.\n",
    "\n",
    "- Listings within the same building are anonymized individually, which can make them appear scattered on the map.\n",
    "\n",
    "For further details and assumptions regarding the data collection process, refer to the official [Inside Airbnb Data Assumptions](https://insideairbnb.com/fr/data-assumptions/) page."
   ]
  },
  {
   "cell_type": "code",
   "execution_count": 22,
   "id": "e17c4d07",
   "metadata": {},
   "outputs": [],
   "source": [
    "#  importing important libraries\n",
    "import matplotlib.pyplot as plt\n",
    "import pandas as pd\n",
    "import seaborn as sns\n",
    "import numpy as np\n",
    "%matplotlib inline\n",
    "#adding ./src to the python path\n",
    "import sys\n",
    "sys.path.append('../src')\n",
    "# to reload module in src/ if necessary\n",
    "import importlib"
   ]
  },
  {
   "cell_type": "markdown",
   "id": "1c3c5e50",
   "metadata": {},
   "source": [
    "The dataset is of csv format, so we will use pandas csv reader to load the dataset."
   ]
  },
  {
   "cell_type": "code",
   "execution_count": null,
   "id": "81eaf137",
   "metadata": {},
   "outputs": [],
   "source": [
    "raw_data = pd.read_csv('../data/listings.csv')"
   ]
  },
  {
   "cell_type": "markdown",
   "id": "166efccc",
   "metadata": {},
   "source": [
    "According to the Inside Airbnb website, the dataset contains **86,064 listings and 79 attributes** for the city of Paris.\n",
    "\n",
    "Detailed descriptions of all Airbnb listing attributes can be found [here](https://docs.google.com/spreadsheets/d/1iWCNJcSutYqpULSQHlNyGInUvHg2BoUGoNRIGa6Szc4/edit?gid=1322284596#gid=1322284596). Among these, the following features appear to be the most promising for our analysis:\n",
    "\n",
    "| Attributes | Type| Description |\n",
    "|------------|-----|-------------|\n",
    "| neighbourhood_cleansed |  text | The neighbourhood as geocoded using the latitude and longitude against neighborhoods as defined by open or public digital shapefiles. |\n",
    "| neighbourhood_group_cleansed | Text | The neighbourhood group as geocoded using the latitude and longitude against neighborhoods as defined by open or public digital shapefiles. |\n",
    "| latitude | numeric | Uses the World Geodetic System (WGS84) projection for latitude and longitude.|\n",
    "| longitude | numeric | Uses the World Geodetic System (WGS84) projection for latitude and longitude.|\n",
    "| property_type | text | Self selected property type. Hotels and Bed and Breakfasts are described as such by their hosts in this field |\n",
    "| room_type | text | Entire home/aptP rivate room/Shared room/Hotel. All homes are grouped into the following three room types: Entire place, Private room, Shared room, Entire place [(see)](https://www.airbnb.com/help/article/5/what-does-the-room-type-of-a-listing-mean)|\n",
    "| accommodates | integer | The maximum capacity of the listing |\n",
    "| bathrooms | numeric | The number of bathrooms in the listing|\n",
    "| bathrooms_text | string | The number of bathrooms in the listing. \n",
    "On the Airbnb web-site, the bathrooms field has evolved from a number to a textual description. For older scrapes, bathrooms is used. |\n",
    "| bedrooms | integer| The number of bedrooms |\n",
    "| beds | integer | The number of bed(s)|\n",
    "| amenities          | JSON      | List of facilities provided in the listing    |\n",
    "| `price` | currency | daily price in local currency.|\n",
    "| minimum_nights | integer | minimum number of night stay for the listing (calendar rules may be different) |\n",
    "| maximum_nights | integer | maximum number of night stay for the listing (calendar rules may be different) |\n",
    "\n",
    "**Some additional features may have a significant impact on the price, and we will explore them further during the data preparation phase.**\n",
    "\n",
    "While host-related information may influence a customer's decision to book, it should not directly impact the listing price. Therefore, features such as `host_response_rate`, `host_acceptance_rate`, `host_name`, `host_since`, etc., **appear to be irrelevant** for price prediction. However, we will not exclude them systematically; the final decision will be based on correlation analysis and feature importance evaluations.\n",
    "\n",
    "The dataset is sufficiently large to train accurate predictive models. However, it's important to note that **price trends may evolve over time** due to changing economic or societal conditions.\n",
    "\n",
    "Lastly, the dataset provides a **rich set of attributes**, which should be adequate for our modeling objectives.\n",
    "\n",
    "Other attributes may worth-mensioning:\n",
    "- `id`: (integer) Airbnb's unique identifier for the listing\n",
    "- `host_id`: (integer) Airbnb's unique identifier for the host/user\n"
   ]
  },
  {
   "cell_type": "markdown",
   "id": "786a85ae",
   "metadata": {},
   "source": [
    "### 2.2 Describing the Data"
   ]
  },
  {
   "cell_type": "code",
   "execution_count": 3,
   "id": "796816fa",
   "metadata": {},
   "outputs": [
    {
     "name": "stdout",
     "output_type": "stream",
     "text": [
      "<class 'pandas.core.frame.DataFrame'>\n",
      "RangeIndex: 86064 entries, 0 to 86063\n",
      "Data columns (total 79 columns):\n",
      " #   Column                                        Non-Null Count  Dtype  \n",
      "---  ------                                        --------------  -----  \n",
      " 0   id                                            86064 non-null  int64  \n",
      " 1   listing_url                                   86064 non-null  object \n",
      " 2   scrape_id                                     86064 non-null  int64  \n",
      " 3   last_scraped                                  86064 non-null  object \n",
      " 4   source                                        86064 non-null  object \n",
      " 5   name                                          86064 non-null  object \n",
      " 6   description                                   83159 non-null  object \n",
      " 7   neighborhood_overview                         42511 non-null  object \n",
      " 8   picture_url                                   86063 non-null  object \n",
      " 9   host_id                                       86064 non-null  int64  \n",
      " 10  host_url                                      86064 non-null  object \n",
      " 11  host_name                                     86023 non-null  object \n",
      " 12  host_since                                    86023 non-null  object \n",
      " 13  host_location                                 68902 non-null  object \n",
      " 14  host_about                                    37690 non-null  object \n",
      " 15  host_response_time                            50215 non-null  object \n",
      " 16  host_response_rate                            50215 non-null  object \n",
      " 17  host_acceptance_rate                          58455 non-null  object \n",
      " 18  host_is_superhost                             84066 non-null  object \n",
      " 19  host_thumbnail_url                            86023 non-null  object \n",
      " 20  host_picture_url                              86023 non-null  object \n",
      " 21  host_neighbourhood                            29817 non-null  object \n",
      " 22  host_listings_count                           86023 non-null  float64\n",
      " 23  host_total_listings_count                     86023 non-null  float64\n",
      " 24  host_verifications                            86023 non-null  object \n",
      " 25  host_has_profile_pic                          86023 non-null  object \n",
      " 26  host_identity_verified                        86023 non-null  object \n",
      " 27  neighbourhood                                 42511 non-null  object \n",
      " 28  neighbourhood_cleansed                        86064 non-null  object \n",
      " 29  neighbourhood_group_cleansed                  0 non-null      float64\n",
      " 30  latitude                                      86064 non-null  float64\n",
      " 31  longitude                                     86064 non-null  float64\n",
      " 32  property_type                                 86064 non-null  object \n",
      " 33  room_type                                     86064 non-null  object \n",
      " 34  accommodates                                  86064 non-null  int64  \n",
      " 35  bathrooms                                     55911 non-null  float64\n",
      " 36  bathrooms_text                                85991 non-null  object \n",
      " 37  bedrooms                                      78940 non-null  float64\n",
      " 38  beds                                          55672 non-null  float64\n",
      " 39  amenities                                     86064 non-null  object \n",
      " 40  price                                         55655 non-null  object \n",
      " 41  minimum_nights                                86064 non-null  int64  \n",
      " 42  maximum_nights                                86064 non-null  int64  \n",
      " 43  minimum_minimum_nights                        86062 non-null  float64\n",
      " 44  maximum_minimum_nights                        86062 non-null  float64\n",
      " 45  minimum_maximum_nights                        86062 non-null  float64\n",
      " 46  maximum_maximum_nights                        86062 non-null  float64\n",
      " 47  minimum_nights_avg_ntm                        86062 non-null  float64\n",
      " 48  maximum_nights_avg_ntm                        86062 non-null  float64\n",
      " 49  calendar_updated                              0 non-null      float64\n",
      " 50  has_availability                              81680 non-null  object \n",
      " 51  availability_30                               86064 non-null  int64  \n",
      " 52  availability_60                               86064 non-null  int64  \n",
      " 53  availability_90                               86064 non-null  int64  \n",
      " 54  availability_365                              86064 non-null  int64  \n",
      " 55  calendar_last_scraped                         86064 non-null  object \n",
      " 56  number_of_reviews                             86064 non-null  int64  \n",
      " 57  number_of_reviews_ltm                         86064 non-null  int64  \n",
      " 58  number_of_reviews_l30d                        86064 non-null  int64  \n",
      " 59  availability_eoy                              86064 non-null  int64  \n",
      " 60  number_of_reviews_ly                          86064 non-null  int64  \n",
      " 61  estimated_occupancy_l365d                     86064 non-null  int64  \n",
      " 62  estimated_revenue_l365d                       55655 non-null  float64\n",
      " 63  first_review                                  64270 non-null  object \n",
      " 64  last_review                                   64270 non-null  object \n",
      " 65  review_scores_rating                          64270 non-null  float64\n",
      " 66  review_scores_accuracy                        64258 non-null  float64\n",
      " 67  review_scores_cleanliness                     64261 non-null  float64\n",
      " 68  review_scores_checkin                         64251 non-null  float64\n",
      " 69  review_scores_communication                   64260 non-null  float64\n",
      " 70  review_scores_location                        64252 non-null  float64\n",
      " 71  review_scores_value                           64251 non-null  float64\n",
      " 72  license                                       68046 non-null  object \n",
      " 73  instant_bookable                              86064 non-null  object \n",
      " 74  calculated_host_listings_count                86064 non-null  int64  \n",
      " 75  calculated_host_listings_count_entire_homes   86064 non-null  int64  \n",
      " 76  calculated_host_listings_count_private_rooms  86064 non-null  int64  \n",
      " 77  calculated_host_listings_count_shared_rooms   86064 non-null  int64  \n",
      " 78  reviews_per_month                             64270 non-null  float64\n",
      "dtypes: float64(24), int64(20), object(35)\n",
      "memory usage: 51.9+ MB\n"
     ]
    }
   ],
   "source": [
    "raw_data.info()"
   ]
  },
  {
   "cell_type": "code",
   "execution_count": null,
   "id": "8b5e252c",
   "metadata": {},
   "outputs": [
    {
     "data": {
      "text/plain": [
       "0"
      ]
     },
     "execution_count": 30,
     "metadata": {},
     "output_type": "execute_result"
    }
   ],
   "source": [
    "#count the number of duplicated listings\n",
    "raw_data.duplicated(['id']).sum()"
   ]
  },
  {
   "cell_type": "code",
   "execution_count": null,
   "id": "f7ff4cc4",
   "metadata": {},
   "outputs": [
    {
     "name": "stdout",
     "output_type": "stream",
     "text": [
      "There are 13% of missing data\n"
     ]
    }
   ],
   "source": [
    "print(f'There are {100 * raw_data.isnull().sum().sum() / np.product(raw_data.shape):2.0f}% of missing data.')"
   ]
  },
  {
   "cell_type": "code",
   "execution_count": 33,
   "id": "5a25c860",
   "metadata": {},
   "outputs": [
    {
     "name": "stdout",
     "output_type": "stream",
     "text": [
      "target variable has 35% missing value\n"
     ]
    }
   ],
   "source": [
    "print(f'target variable has {raw_data.price.isna().mean() * 100 :2.0f}% missing value')"
   ]
  },
  {
   "cell_type": "code",
   "execution_count": 10,
   "id": "61edb2a3",
   "metadata": {},
   "outputs": [
    {
     "data": {
      "image/png": "[encoded data removed]",
      "text/plain": [
       "<Figure size 250x250 with 1 Axes>"
      ]
     },
     "metadata": {},
     "output_type": "display_data"
    }
   ],
   "source": [
    "from plot import PlotData\n",
    "\n",
    "plot=PlotData()\n",
    "plot.dtypes(raw_data.dtypes.value_counts(), figsize=(2.5, 2.5))\n",
    "#importlib.reload(PlotData)"
   ]
  },
  {
   "cell_type": "markdown",
   "id": "8c4fa607",
   "metadata": {},
   "source": [
    "As expected there are 86064 entries in the dataset, and index range from 0 to 86063. There are 79 columns in the dataset.\n",
    "The dataset contains both numeric and categorical data. While the latter represent approximately 44% of the data, 56% of data are numerical (30.4% of type `float64` and 25.4% `int64`). The dataset has 13% of missing entries. No duplicated listing is present in the dataset. \n",
    "\n",
    "Two attributes `calendar_updated` and `neighbourhood_group_cleansed`, both of type `float64` are empty.\n",
    "\n",
    "`price`, the target variable is reported to be of type `object`. For further analysis this column must me converted into `float64`, which is the desired type for such quantity.\n",
    "\n",
    "This conversion should be performed in removing the '$' sign and the \",\" before applying pandas `.astype('float')`.\n",
    "We also notice 35% of its values missing. Let's verify if there is any association between missingness and any other observable."
   ]
  },
  {
   "cell_type": "code",
   "execution_count": 45,
   "id": "3dbd7e9d",
   "metadata": {},
   "outputs": [
    {
     "data": {
      "text/plain": [
       "0.9214073247815578"
      ]
     },
     "execution_count": 45,
     "metadata": {},
     "output_type": "execute_result"
    }
   ],
   "source": [
    "(raw_data['price']=='$100.00').mean()*100"
   ]
  },
  {
   "cell_type": "markdown",
   "id": "fd6d5d4c",
   "metadata": {},
   "source": [
    "### 2.3. Exploring Data"
   ]
  },
  {
   "cell_type": "markdown",
   "id": "43aaf417",
   "metadata": {},
   "source": []
  },
  {
   "cell_type": "markdown",
   "id": "76b1ccec",
   "metadata": {},
   "source": [
    "### 2.4. Verifying Data Quality"
   ]
  },
  {
   "cell_type": "markdown",
   "id": "cbec30cc",
   "metadata": {},
   "source": []
  },
  {
   "cell_type": "markdown",
   "id": "34dda580",
   "metadata": {},
   "source": [
    "### 2.5. Summary"
   ]
  },
  {
   "cell_type": "markdown",
   "id": "bbaf7270",
   "metadata": {},
   "source": []
  }
 ],
 "metadata": {
  "kernelspec": {
   "display_name": "base",
   "language": "python",
   "name": "python3"
  },
  "language_info": {
   "codemirror_mode": {
    "name": "ipython",
    "version": 3
   },
   "file_extension": ".py",
   "mimetype": "text/x-python",
   "name": "python",
   "nbconvert_exporter": "python",
   "pygments_lexer": "ipython3",
   "version": "3.12.7"
  }
 },
 "nbformat": 4,
 "nbformat_minor": 5
}
