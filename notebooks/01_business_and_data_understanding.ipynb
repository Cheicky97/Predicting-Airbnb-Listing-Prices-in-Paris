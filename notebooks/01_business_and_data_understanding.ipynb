{
 "cells": [
  {
   "cell_type": "markdown",
   "id": "f3de6686",
   "metadata": {},
   "source": [
    "# Predicting Airbnb Listing Prices in Paris  \n",
    "*Using machine learning to understand key pricing drivers*"
   ]
  },
  {
   "cell_type": "markdown",
   "id": "e6495eed",
   "metadata": {},
   "source": [
    "## 1. Business Understanding"
   ]
  },
  {
   "cell_type": "markdown",
   "id": "3eac54a0",
   "metadata": {},
   "source": [
    "<div style=\"text-align: center;\">\n",
    "  <img src=\"../illustration-images/images.png\" width=\"610\" style=\"display:inline-block; margin-right: 20px;\">\n",
    "  <img src=\"../illustration-images/paris.jpg\" width=\"340\" style=\"display:inline-block;\">\n",
    "</div>"
   ]
  },
  {
   "cell_type": "markdown",
   "id": "7c4de323",
   "metadata": {},
   "source": [
    "### 1.1 Business Objectives\n",
    "\n",
    "Predicting Airbnb listing prices and understanding the most influential features can be highly beneficial to stakeholders.\n",
    "Renters want proposed prices for accommodations to be attractive, while hosts, seeking profit, want fair pricing guidance without feeling shortchanged. Ultimately, both parties aim for a fair price based on the apartment's characteristics and location.\n",
    "\n",
    "The goal of this project is to develop a *supervised machine learning* model to:\n",
    "\n",
    "* **Understand** the impact of individual features typically found in listings.\n",
    "* **Predict** accurate prices based on the characteristics of the apartment.\n",
    "\n",
    "To carry out this project, we will use Airbnb listing prices data in the city of **Paris** from the past 12 months. Using this dataset, we will train a machine learning model, analyze feature importance, and ultimately deploy the model into production as web app.\n",
    "\n",
    "<div style='text-align: center;'>\n",
    "    <img src='../illustration-images/diagram-pipeline.png' width=\"600\">\n",
    "</div>\n",
    "\n",
    "This project will interest and benefit the following stakeholders:\n",
    "\n",
    "* **Renters**: The model will help renters assess whether the listed price is fair by comparing it to the predicted price. For price-sensitive renters, it also offers insight into which features to prioritize or compromise on to stay within their budget.\n",
    "* **Hosts**: Setting a fair and competitive price can be challenging, especially for new hosts. Our model will assist them by offering data-driven price suggestions based on similar apartments. It can also help hosts identify which features to highlight or improve to increase the value of their listing.\n",
    "\n",
    "### 1.2. Business Success Criteria\n",
    "\n",
    "In the scope of this project, we aim to achieve the following:\n",
    "\n",
    "* **Low RMSE**: We will use the Root Mean Square Error (RMSE) to evaluate the model's performance. Our target is an RMSE below €50, indicating that price estimates are reasonably close to actual values.\n",
    "* **Identified key features**: At the end of the project, we aim to clearly identify the most important features that influence pricing.\n",
    "* **Lightweight model**: The final model should be as lightweight as possible to enable fast and efficient deployment.\n",
    "\n",
    "\n"
   ]
  },
  {
   "cell_type": "markdown",
   "id": "e0c44b1b",
   "metadata": {},
   "source": [
    "## 2. Data Understanding"
   ]
  },
  {
   "cell_type": "markdown",
   "id": "12db1ec9",
   "metadata": {},
   "source": [
    "### 2.1. Collecting Initial data\n",
    "\n",
    "The dataset used in this project was sourced from [Inside Airbnb](https://insideairbnb.com/fr/get-the-data/), a platform that provides publicly available Airbnb data for various cities.\n",
    "\n",
    "For this analysis, we downloaded the Paris listings dataset dated March 3, 2025.\n",
    "\n",
    "According to Inside Airbnb, the following information is important to note:\n",
    "\n",
    "- The data is collected from publicly available information on the Airbnb website.\n",
    "\n",
    "- It has been verified, cleansed, and aggregated by Inside Airbnb.\n",
    "\n",
    "- The reported location of each listing is obfuscated for privacy reasons, with coordinates randomly displaced within a radius of approximately 150 meters (450 feet) from the actual address.\n",
    "\n",
    "- Listings within the same building are anonymized individually, which can make them appear scattered on the map.\n",
    "\n",
    "For further details and assumptions regarding the data collection process, refer to the official [Inside Airbnb Data Assumptions](https://insideairbnb.com/fr/data-assumptions/) page."
   ]
  },
  {
   "cell_type": "code",
   "execution_count": 4,
   "id": "81eaf137",
   "metadata": {},
   "outputs": [],
   "source": [
    "#  importing important libraries\n",
    "import matplotlib.pyplot as plt\n",
    "import pandas as pd\n",
    "import seaborn as sns\n",
    "%matplotlib inline\n",
    "\n",
    "raw_data = pd.read_csv('../data/listings.csv')"
   ]
  },
  {
   "cell_type": "markdown",
   "id": "166efccc",
   "metadata": {},
   "source": [
    "_Which attributes (columns) from the database seem most promising?_\n",
    "According to Inside Airbnb website, the dataset gather 86,064 listings, with 79 attributes, for the city of Paris.\n",
    "Informations concerning Airbnb listing attributes are available [here](https://docs.google.com/spreadsheets/d/1iWCNJcSutYqpULSQHlNyGInUvHg2BoUGoNRIGa6Szc4/edit?gid=1322284596#gid=1322284596), and followings seem to be the most promising:\n",
    "| Attributes | Description |\n",
    "|------------|-------------|\n",
    "| neighbourhood_cleansed | |\n",
    "| host_is_superhost | The neighbourhood as geocoded using the latitude and longitude against neighborhoods as defined by open or public digital shapefiles. |\n",
    "\n",
    "Which attributes seem irrelevant and can be excluded?\n",
    "Is there enough data to draw generalizable conclusions or make accurate predictions?\n",
    "Are there too many attributes for your modeling method of choice?\n",
    "Are you merging various data sources? If so, are there areas that might pose a problem when merging?\n",
    "Have you considered how missing values are handled in each of your data sources?\n"
   ]
  },
  {
   "cell_type": "markdown",
   "id": "786a85ae",
   "metadata": {},
   "source": [
    "### 2.2 Describing the Data"
   ]
  },
  {
   "cell_type": "markdown",
   "id": "4b65d377",
   "metadata": {},
   "source": []
  },
  {
   "cell_type": "markdown",
   "id": "fd6d5d4c",
   "metadata": {},
   "source": [
    "### 2.3. Exploring Data"
   ]
  },
  {
   "cell_type": "markdown",
   "id": "43aaf417",
   "metadata": {},
   "source": []
  },
  {
   "cell_type": "markdown",
   "id": "76b1ccec",
   "metadata": {},
   "source": [
    "### 2.4. Verifying Data Quality"
   ]
  },
  {
   "cell_type": "markdown",
   "id": "cbec30cc",
   "metadata": {},
   "source": []
  },
  {
   "cell_type": "markdown",
   "id": "34dda580",
   "metadata": {},
   "source": [
    "### 2.5. Summary"
   ]
  },
  {
   "cell_type": "markdown",
   "id": "bbaf7270",
   "metadata": {},
   "source": []
  }
 ],
 "metadata": {
  "kernelspec": {
   "display_name": "base",
   "language": "python",
   "name": "python3"
  },
  "language_info": {
   "codemirror_mode": {
    "name": "ipython",
    "version": 3
   },
   "file_extension": ".py",
   "mimetype": "text/x-python",
   "name": "python",
   "nbconvert_exporter": "python",
   "pygments_lexer": "ipython3",
   "version": "3.12.7"
  }
 },
 "nbformat": 4,
 "nbformat_minor": 5
}
