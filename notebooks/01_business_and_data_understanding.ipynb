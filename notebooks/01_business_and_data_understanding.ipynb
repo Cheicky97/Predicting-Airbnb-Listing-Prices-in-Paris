{
 "cells": [
  {
   "cell_type": "markdown",
   "id": "f3de6686",
   "metadata": {},
   "source": [
    "# Predicting Airbnb Listing Prices in Paris  \n",
    "*Using machine learning to understand key pricing drivers*"
   ]
  },
  {
   "cell_type": "markdown",
   "id": "e6495eed",
   "metadata": {},
   "source": [
    "## 1. Business Understanding"
   ]
  },
  {
   "cell_type": "markdown",
   "id": "3eac54a0",
   "metadata": {},
   "source": [
    "<div style=\"text-align: center;\">\n",
    "  <img src=\"../illustration-images/images.png\" width=\"610\" style=\"display:inline-block; margin-right: 20px;\">\n",
    "  <img src=\"../illustration-images/paris.jpg\" width=\"340\" style=\"display:inline-block;\">\n",
    "</div>"
   ]
  },
  {
   "cell_type": "markdown",
   "id": "7c4de323",
   "metadata": {},
   "source": [
    "## 1.1 Business Objectives\n",
    "\n",
    "Predicting Airbnb listing prices and understanding the most influential features can be highly beneficial to stakeholders.\n",
    "Renters want proposed prices for accommodations to be attractive, while hosts, seeking profit, want fair pricing guidance without feeling shortchanged. Ultimately, both parties aim for a fair price based on the apartment's characteristics and location.\n",
    "\n",
    "The goal of this project is to develop a *supervised machine learning* model to:\n",
    "\n",
    "* **Understand** the impact of individual features typically found in listings.\n",
    "* **Predict** accurate prices based on the characteristics of the apartment.\n",
    "\n",
    "To carry out this project, we will use Airbnb listing prices data in the city of **Paris** from the past 12 months. Using this dataset, we will train a machine learning model, analyze feature importance, and ultimately deploy the model into production as web app.\n",
    "\n",
    "<div style='text-align: center;'>\n",
    "    <img src='../illustration-images/diagram-pipeline.png' width=\"600\">\n",
    "</div>\n",
    "\n",
    "This project will interest and benefit the following stakeholders:\n",
    "\n",
    "* **Renters**: The model will help renters assess whether the listed price is fair by comparing it to the predicted price. For price-sensitive renters, it also offers insight into which features to prioritize or compromise on to stay within their budget.\n",
    "* **Hosts**: Setting a fair and competitive price can be challenging, especially for new hosts. Our model will assist them by offering data-driven price suggestions based on similar apartments. It can also help hosts identify which features to highlight or improve to increase the value of their listing.\n",
    "\n",
    "## 2.2. Business Success Criteria\n",
    "\n",
    "In the scope of this project, we aim to achieve the following:\n",
    "\n",
    "* **Low RMSE**: We will use the Root Mean Square Error (RMSE) to evaluate the model's performance. Our target is an RMSE below €50, indicating that price estimates are reasonably close to actual values.\n",
    "* **Identified key features**: At the end of the project, we aim to clearly identify the most important features that influence pricing.\n",
    "* **Lightweight model**: The final model should be as lightweight as possible to enable fast and efficient deployment.\n",
    "\n",
    "\n"
   ]
  },
  {
   "cell_type": "markdown",
   "id": "e0c44b1b",
   "metadata": {},
   "source": [
    "# Data Understanding"
   ]
  },
  {
   "cell_type": "markdown",
   "id": "12db1ec9",
   "metadata": {},
   "source": [
    "# Data Collection"
   ]
  },
  {
   "cell_type": "code",
   "execution_count": null,
   "id": "81eaf137",
   "metadata": {},
   "outputs": [],
   "source": [
    "import sys\n",
    "import os\n",
    "\n",
    "# Add the project root (or src/) to sys.path\n",
    "sys.path.append(os.path.abspath(os.path.join(\"..\", \"src\")))\n",
    "\n",
    "import importlib\n",
    "import src.data_scraper\n",
    "\n",
    "importlib.reload(src.data_scraper)"
   ]
  }
 ],
 "metadata": {
  "kernelspec": {
   "display_name": "base",
   "language": "python",
   "name": "python3"
  },
  "language_info": {
   "codemirror_mode": {
    "name": "ipython",
    "version": 3
   },
   "file_extension": ".py",
   "mimetype": "text/x-python",
   "name": "python",
   "nbconvert_exporter": "python",
   "pygments_lexer": "ipython3",
   "version": "3.12.7"
  }
 },
 "nbformat": 4,
 "nbformat_minor": 5
}
